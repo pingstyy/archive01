{
 "cells": [
  {
   "cell_type": "code",
   "execution_count": null,
   "metadata": {},
   "outputs": [],
   "source": [
    "//credit - https://huggingface.co/blog/fine-tune-wav2vec2-english (Patrick von Platen)\n",
    "\n",
    "// run this on your Chrome / Browser Console (where Colab is present) \n",
    "%%writefile js%%\n",
    "function ConnectButton(){\n",
    "    console.log(\"Connect pushed\"); \n",
    "    document.querySelector(\"#top-toolbar > colab-connect-button\").shadowRoot.querySelector(\"#connect\").click() \n",
    "}\n",
    "\n",
    "var colab = setInterval(ConnectButton,60000);\n",
    "\n",
    "// uncomment the below line and use it for clearing\n",
    "\n",
    "//clearInterval(colab)"
   ]
  },
  {
   "cell_type": "markdown",
   "metadata": {},
   "source": [
    "### in next console input line\n",
    "> var runnable = SetInterval(ConnectButton(), 12) ;"
   ]
  }
 ],
 "metadata": {
  "language_info": {
   "name": "python"
  }
 },
 "nbformat": 4,
 "nbformat_minor": 2
}
